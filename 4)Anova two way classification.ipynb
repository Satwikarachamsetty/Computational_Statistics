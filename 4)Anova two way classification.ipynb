{
 "cells": [
  {
   "cell_type": "code",
   "execution_count": 1,
   "metadata": {},
   "outputs": [],
   "source": [
    "import numpy as np\n",
    "import pandas as pd"
   ]
  },
  {
   "cell_type": "code",
   "execution_count": 2,
   "metadata": {},
   "outputs": [
    {
     "name": "stdout",
     "output_type": "stream",
     "text": [
      "13 7 9 3\n",
      "6 6 3 1\n",
      "11 5 15 5\n",
      "0.05\n",
      "G= 84\n",
      "Ti^2= 2576\n",
      "Bj^2= 2034\n"
     ]
    }
   ],
   "source": [
    "x=list(map(int,input().split()))\n",
    "y=list(map(int,input().split()))\n",
    "z=list(map(int,input().split()))\n",
    "x=np.array(x)\n",
    "y=np.array(y)\n",
    "z=np.array(z)\n",
    "alpha=float(input())\n",
    "a=len(x)\n",
    "b=len(y)\n",
    "c=len(z)\n",
    "G=np.sum(x)+np.sum(y)+np.sum(z)\n",
    "print(\"G=\",G)\n",
    "ti2=np.sum(x)**2+np.sum(y)**2+np.sum(z)**2\n",
    "print(\"Ti^2=\",ti2)\n",
    "s=np.array([[x],[y],[z]])\n",
    "m=np.sum(s,axis=0)\n",
    "bj=np.sum(m)\n",
    "bjj=np.sum(m**2)\n",
    "print(\"Bj^2=\",bjj)"
   ]
  },
  {
   "cell_type": "code",
   "execution_count": 3,
   "metadata": {},
   "outputs": [
    {
     "name": "stdout",
     "output_type": "stream",
     "text": [
      "RSS= 786\n",
      "CF= 588.0\n",
      "SST= 198.0\n",
      "SSTR= 56.0\n",
      "SSB= 90.0\n",
      "SSE= 52.0\n"
     ]
    }
   ],
   "source": [
    "rss=np.sum(x**2)+np.sum(y**2)+np.sum(z**2)\n",
    "print(\"RSS=\",rss)\n",
    "k=3\n",
    "h=4\n",
    "n=h*k\n",
    "cf=G**2/n\n",
    "print(\"CF=\",cf)\n",
    "sst=rss-cf\n",
    "print(\"SST=\",sst)\n",
    "sstr=((ti2/h)-cf)\n",
    "print(\"SSTR=\",sstr)\n",
    "ssb=(bjj/k)-cf\n",
    "print(\"SSB=\",ssb)\n",
    "sse=sst-sstr-ssb\n",
    "print(\"SSE=\",sse)"
   ]
  },
  {
   "cell_type": "code",
   "execution_count": 7,
   "metadata": {},
   "outputs": [
    {
     "name": "stdout",
     "output_type": "stream",
     "text": [
      "  source of variation  sum of squares  Degrees of freedom Mean sum of Squares  \\\n",
      "0          Treatments            56.0                   2                  28   \n",
      "1              Blocks            90.0                   3                  30   \n",
      "2              Errors            52.0                   6             8.66667   \n",
      "3               Total           198.0                  11                       \n",
      "\n",
      "  Variance Ratio  \n",
      "0                 \n",
      "1        3.23077  \n",
      "2        3.46154  \n",
      "3                 \n",
      "Ftrcal= 3.230769230769231\n",
      "Fbcal= 3.4615384615384617\n"
     ]
    }
   ],
   "source": [
    "import pandas as pd\n",
    "df=pd.read_excel(\"C:\\\\Users\\\\Student\\\\Desktop\\\\t11.xlsx\")\n",
    "df=pd.DataFrame(df)\n",
    "sof=[sstr,ssb,sse,sst]\n",
    "df['sum of squares']=sof\n",
    "dof=[k-1,h-1,(k-1)*(h-1),(k*h)-1]\n",
    "df['Degrees of freedom']=dof\n",
    "msos=[sof[0]/dof[0],sof[1]/dof[1],sof[2]/dof[2],'']\n",
    "df['Mean sum of Squares']=msos\n",
    "Ftrcal=msos[0]/msos[2]\n",
    "Fbcal=msos[1]/msos[2]\n",
    "vr=['',Ftrcal,Fbcal,'']\n",
    "df['Variance Ratio']=vr\n",
    "print(df)\n",
    "print(\"Ftrcal=\",Ftrcal)\n",
    "print(\"Fbcal=\",Fbcal)"
   ]
  },
  {
   "cell_type": "code",
   "execution_count": 8,
   "metadata": {},
   "outputs": [
    {
     "name": "stdout",
     "output_type": "stream",
     "text": [
      "Ftrtv= 5.143252849784718\n",
      "We Accept Ho\n",
      "Fbtv= 4.757062663089414\n",
      "We Accept Ho\n"
     ]
    }
   ],
   "source": [
    "import scipy.stats as s\n",
    "Ftrtv=s.f.ppf(1-alpha,k-1,(k-1)*(h-1))\n",
    "print(\"Ftrtv=\",Ftrtv)\n",
    "if Ftrcal <= Ftrtv:\n",
    "    print(\"We Accept Ho\")\n",
    "else:\n",
    "    print(\"We Reject Ho\")\n",
    "    \n",
    "Fbtv=s.f.ppf(1-alpha,h-1,(k-1)*(h-1))\n",
    "print(\"Fbtv=\",Fbtv)\n",
    "if Fbcal <= Fbtv:\n",
    "    print(\"We Accept Ho\")\n",
    "else:\n",
    "    print(\"We Reject Ho\")\n",
    "    "
   ]
  },
  {
   "cell_type": "code",
   "execution_count": null,
   "metadata": {},
   "outputs": [],
   "source": []
  }
 ],
 "metadata": {
  "kernelspec": {
   "display_name": "Python 3",
   "language": "python",
   "name": "python3"
  },
  "language_info": {
   "codemirror_mode": {
    "name": "ipython",
    "version": 3
   },
   "file_extension": ".py",
   "mimetype": "text/x-python",
   "name": "python",
   "nbconvert_exporter": "python",
   "pygments_lexer": "ipython3",
   "version": "3.7.4"
  }
 },
 "nbformat": 4,
 "nbformat_minor": 2
}
