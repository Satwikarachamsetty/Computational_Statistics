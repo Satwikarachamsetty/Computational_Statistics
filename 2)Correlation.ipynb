{
 "cells": [
  {
   "cell_type": "code",
   "execution_count": 1,
   "metadata": {},
   "outputs": [
    {
     "name": "stdout",
     "output_type": "stream",
     "text": [
      "2.027159342528357\n",
      "4.408798022137099\n",
      "7.03125\n",
      "0.7867277140983885\n"
     ]
    }
   ],
   "source": [
    "import numpy as np\n",
    "\n",
    "x=np.array([3,7,4,2,0,4,1,2])\n",
    "y=np.array([11,18,9,4,7,6,3,8])\n",
    "n=8\n",
    "xbar=np.sum(x)/n\n",
    "ybar=np.sum(y)/n\n",
    "sumx2=0\n",
    "sumy2=0\n",
    "for i in x:\n",
    "    sumx2=sumx2+i**2\n",
    "for j in y:\n",
    "    sumy2=sumy2+j**2    \n",
    "sigmax=((sumx2/n)-xbar**2)**0.5\n",
    "sigmay=((sumy2/n)-ybar**2)**0.5\n",
    "print(sigmax)\n",
    "print(sigmay)\n",
    "sumxy=np.sum(x*y)\n",
    "covxy=(sumxy/n)-(xbar*ybar)\n",
    "print(covxy)\n",
    "sigmaxy=covxy/(sigmax*sigmay)\n",
    "print(sigmaxy)\n"
   ]
  }
 ],
 "metadata": {
  "kernelspec": {
   "display_name": "Python 3",
   "language": "python",
   "name": "python3"
  },
  "language_info": {
   "codemirror_mode": {
    "name": "ipython",
    "version": 3
   },
   "file_extension": ".py",
   "mimetype": "text/x-python",
   "name": "python",
   "nbconvert_exporter": "python",
   "pygments_lexer": "ipython3",
   "version": "3.7.4"
  }
 },
 "nbformat": 4,
 "nbformat_minor": 2
}
