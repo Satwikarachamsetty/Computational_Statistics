{
 "cells": [
  {
   "cell_type": "code",
   "execution_count": 1,
   "id": "c7377c81",
   "metadata": {},
   "outputs": [],
   "source": [
    "import numpy as np\n",
    "import pandas as pd"
   ]
  },
  {
   "cell_type": "code",
   "execution_count": 2,
   "id": "d27fa041",
   "metadata": {},
   "outputs": [],
   "source": [
    "def ranks(x):\n",
    "    z=sorted(x,reverse=True)\n",
    "    d={}\n",
    "    rank=1\n",
    "    n=len(x)\n",
    "    for i in range(n):\n",
    "        if z[i] in d.keys():\n",
    "            d[z[i]]=d[z[i]]+rank\n",
    "        else:\n",
    "            d[z[i]]=rank\n",
    "        rank=rank+1\n",
    "    for i in d.keys():\n",
    "        d[i]=d[i]/z.count(i)\n",
    "    return d"
   ]
  },
  {
   "cell_type": "code",
   "execution_count": 17,
   "id": "08041338",
   "metadata": {},
   "outputs": [
    {
     "name": "stdout",
     "output_type": "stream",
     "text": [
      "110 100 140 120 80 90\n",
      "70 60 80 90 10 20\n",
      "     x   y  Ranks of x  Ranks of y  di  di^2\n",
      "0  110  70           3           3   0     0\n",
      "1  100  60           4           4   0     0\n",
      "2  140  80           1           2  -1     1\n",
      "3  120  90           2           1   1     1\n",
      "4   80  10           6           6   0     0\n",
      "5   90  20           5           5   0     0\n",
      "Rho= 0.9428571428571428\n"
     ]
    }
   ],
   "source": [
    "x=list(map(int,input().split()))\n",
    "y=list(map(int,input().split()))\n",
    "df=pd.read_excel(\"C:\\\\Users\\\\exam2\\\\Desktop\\\\t11.xlsx\")\n",
    "df=pd.DataFrame(df)\n",
    "df['x']=x\n",
    "df['y']=y\n",
    "n=len(x)\n",
    "rankx=ranks(x)\n",
    "ranky=ranks(y)\n",
    "df['Ranks of x']=[int(rankx[i]) for i in x]\n",
    "df['Ranks of y']=[int(ranky[j]) for j in y]\n",
    "df['di']=df['Ranks of x']-df['Ranks of y']\n",
    "df['di^2']=di**2\n",
    "sumdi2=sum(di2)\n",
    "N=n*(n**2-1)\n",
    "rho=1-(6*sumdi2/N)\n",
    "print(df)\n",
    "print(\"Rho=\",rho)"
   ]
  },
  {
   "cell_type": "code",
   "execution_count": null,
   "id": "b87d97cc",
   "metadata": {},
   "outputs": [],
   "source": []
  }
 ],
 "metadata": {
  "kernelspec": {
   "display_name": "Python 3 (ipykernel)",
   "language": "python",
   "name": "python3"
  },
  "language_info": {
   "codemirror_mode": {
    "name": "ipython",
    "version": 3
   },
   "file_extension": ".py",
   "mimetype": "text/x-python",
   "name": "python",
   "nbconvert_exporter": "python",
   "pygments_lexer": "ipython3",
   "version": "3.9.7"
  }
 },
 "nbformat": 4,
 "nbformat_minor": 5
}
