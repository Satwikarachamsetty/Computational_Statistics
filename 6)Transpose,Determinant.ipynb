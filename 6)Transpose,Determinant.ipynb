{
 "cells": [
  {
   "cell_type": "code",
   "execution_count": 12,
   "metadata": {},
   "outputs": [],
   "source": [
    "import numpy as np\n",
    "import pandas as pd\n",
    "import copy"
   ]
  },
  {
   "cell_type": "code",
   "execution_count": 9,
   "metadata": {},
   "outputs": [
    {
     "name": "stdout",
     "output_type": "stream",
     "text": [
      "enter no of rows ,columns2 2\n",
      "Enter values: 1\n",
      "Enter values: 2\n",
      "Enter values: 3\n",
      "Enter values: 4\n",
      "[[1, 2], [3, 4]]\n",
      "enter no of rows ,columns2 2\n",
      "Enter values: 1\n",
      "Enter values: 2\n",
      "Enter values: 3\n",
      "Enter values: 4\n",
      "1 3 \n",
      "2 4 \n"
     ]
    }
   ],
   "source": [
    "def create_matrix():\n",
    "    m,n=list(map(int,input(\"enter no of rows ,columns\").split()))\n",
    "    matrix=[]\n",
    "    for i in range(m):\n",
    "        l=[]\n",
    "        for j in range(n):\n",
    "            l.append(int(input(\"Enter values: \")))\n",
    "        matrix.append(l)\n",
    "    return matrix\n",
    "#Transpose of matrix\n",
    "def transpose():\n",
    "    m=create_matrix()\n",
    "    for i in range(len(m)):\n",
    "        for j in range(len(m[0])):\n",
    "            print(m[j][i],end=' ')\n",
    "        print()\n",
    "print(create_matrix())\n",
    "transpose()"
   ]
  },
  {
   "cell_type": "markdown",
   "metadata": {},
   "source": [
    "##### "
   ]
  },
  {
   "cell_type": "code",
   "execution_count": 15,
   "metadata": {},
   "outputs": [
    {
     "name": "stdout",
     "output_type": "stream",
     "text": [
      "enter no of rows ,columns3 3\n",
      "Enter values: 1\n",
      "Enter values: 2\n",
      "Enter values: 3\n",
      "Enter values: 4\n",
      "Enter values: 5\n",
      "Enter values: 6\n",
      "Enter values: 7\n",
      "Enter values: 8\n",
      "Enter values: 9\n",
      "0\n"
     ]
    }
   ],
   "source": [
    "#Determinant of the matrix   \n",
    "def new_matrix(a,i): \n",
    "    arr = copy.deepcopy(a) \n",
    "    if len(arr) == 2:\n",
    "        return arr\n",
    "    else:\n",
    "        arr.pop(0)\n",
    "        for j in arr:\n",
    "            j.pop(i)\n",
    "        return arr\n",
    "def determinant(a):\n",
    "    if len(a) == 1:\n",
    "        det = a[0]\n",
    "        return det\n",
    "    elif len(a) == 2:\n",
    "        det = a[0][0]*a[1][1]-a[1][0]*a[0][1]\n",
    "        return det\n",
    "    else:\n",
    "        det = 0\n",
    "        for i in range(len(a[0])):\n",
    "            det=det+((-1)**i)*(a[0][i])*(determinant(new_matrix(a,i)))   \n",
    "        return det\n",
    "a=create_matrix()\n",
    "print(determinant(a))"
   ]
  }
 ],
 "metadata": {
  "kernelspec": {
   "display_name": "Python 3",
   "language": "python",
   "name": "python3"
  },
  "language_info": {
   "codemirror_mode": {
    "name": "ipython",
    "version": 3
   },
   "file_extension": ".py",
   "mimetype": "text/x-python",
   "name": "python",
   "nbconvert_exporter": "python",
   "pygments_lexer": "ipython3",
   "version": "3.8.5"
  }
 },
 "nbformat": 4,
 "nbformat_minor": 4
}
